{
  "cells": [
    {
      "cell_type": "code",
      "execution_count": 1,
      "metadata": {
        "id": "3kVBtnEytQ4c"
      },
      "outputs": [],
      "source": [
        "#!pip install --upgrade fastai \n",
        "!pip install -qq aicrowd-cli==0.1"
      ]
    },
    {
      "cell_type": "code",
      "execution_count": 2,
      "metadata": {
        "colab": {
          "base_uri": "https://localhost:8080/"
        },
        "id": "RTb1J5GftgC6",
        "outputId": "12ae4c9a-de26-4cc6-95ba-db8e02148b3f"
      },
      "outputs": [
        {
          "name": "stdout",
          "output_type": "stream",
          "text": [
            "\u001b[32mAPI Key valid\u001b[0m\n",
            "\u001b[32mSaved API Key successfully!\u001b[0m\n"
          ]
        }
      ],
      "source": [
        "API_KEY = 'PERSONAL API KEY' #Please enter your API Key from [https://www.aicrowd.com/participants/me]\r\n",
        "!aicrowd login --api-key $API_KEY"
      ]
    },
    {
      "cell_type": "code",
      "execution_count": 3,
      "metadata": {
        "colab": {
          "base_uri": "https://localhost:8080/"
        },
        "id": "u9NlLk4Ttqp9",
        "outputId": "dfbb5a44-22e6-470a-900e-b277f269fe48"
      },
      "outputs": [
        {
          "name": "stdout",
          "output_type": "stream",
          "text": [
            "sample_submission.csv: 100% 1.97k/1.97k [00:00<00:00, 106kB/s]\n",
            "test.csv: 100% 50.9k/50.9k [00:00<00:00, 849kB/s]\n",
            "train.csv: 100% 212k/212k [00:00<00:00, 1.40MB/s]\n"
          ]
        }
      ],
      "source": [
        "!aicrowd dataset download --challenge wineq"
      ]
    },
    {
      "cell_type": "code",
      "execution_count": 4,
      "metadata": {
        "id": "6wlmKhxAts-E"
      },
      "outputs": [],
      "source": [
        "!rm -rf data\n",
        "!mkdir data\n",
        "\n",
        "!mv train.csv data/train.csv\n",
        "!mv test.csv data/test.csv\n",
        "!mv sample_submission.csv data/sample_submission.csv"
      ]
    },
    {
      "cell_type": "code",
      "execution_count": 5,
      "metadata": {
        "id": "Khe3lh0xtvPy"
      },
      "outputs": [],
      "source": [
        "import pandas as pd\n",
        "import numpy as np\n",
        "from sklearn.model_selection import train_test_split\n",
        "from sklearn.neural_network import MLPClassifier\n",
        "from sklearn.svm import SVC\n",
        "from sklearn.preprocessing import StandardScaler\n",
        "from sklearn.metrics import accuracy_score, f1_score"
      ]
    },
    {
      "cell_type": "code",
      "execution_count": 6,
      "metadata": {
        "id": "VkKZwyQHuCVW"
      },
      "outputs": [],
      "source": [
        "path = \"data/train.csv\" "
      ]
    },
    {
      "cell_type": "code",
      "execution_count": 7,
      "metadata": {
        "id": "WacXLbKduED6"
      },
      "outputs": [],
      "source": [
        "df = pd.read_csv(path)"
      ]
    },
    {
      "cell_type": "code",
      "execution_count": 8,
      "metadata": {
        "colab": {
          "base_uri": "https://localhost:8080/",
          "height": 204
        },
        "id": "M1Eg9Gd0uFjv",
        "outputId": "f898019e-34e9-4704-8335-a35451f224ad"
      },
      "outputs": [
        {
          "data": {
            "text/html": [
              "<div>\n",
              "<style scoped>\n",
              "    .dataframe tbody tr th:only-of-type {\n",
              "        vertical-align: middle;\n",
              "    }\n",
              "\n",
              "    .dataframe tbody tr th {\n",
              "        vertical-align: top;\n",
              "    }\n",
              "\n",
              "    .dataframe thead th {\n",
              "        text-align: right;\n",
              "    }\n",
              "</style>\n",
              "<table border=\"1\" class=\"dataframe\">\n",
              "  <thead>\n",
              "    <tr style=\"text-align: right;\">\n",
              "      <th></th>\n",
              "      <th>fixed acidity</th>\n",
              "      <th>volatile acidity</th>\n",
              "      <th>citric acid</th>\n",
              "      <th>residual sugar</th>\n",
              "      <th>chlorides</th>\n",
              "      <th>free sulfur dioxide</th>\n",
              "      <th>total sulfur dioxide</th>\n",
              "      <th>density</th>\n",
              "      <th>pH</th>\n",
              "      <th>sulphates</th>\n",
              "      <th>alcohol</th>\n",
              "      <th>quality</th>\n",
              "    </tr>\n",
              "  </thead>\n",
              "  <tbody>\n",
              "    <tr>\n",
              "      <th>0</th>\n",
              "      <td>7.0</td>\n",
              "      <td>0.27</td>\n",
              "      <td>0.36</td>\n",
              "      <td>20.7</td>\n",
              "      <td>0.045</td>\n",
              "      <td>45.0</td>\n",
              "      <td>170.0</td>\n",
              "      <td>1.00100</td>\n",
              "      <td>3.00</td>\n",
              "      <td>0.45</td>\n",
              "      <td>8.8</td>\n",
              "      <td>6</td>\n",
              "    </tr>\n",
              "    <tr>\n",
              "      <th>1</th>\n",
              "      <td>8.4</td>\n",
              "      <td>0.40</td>\n",
              "      <td>0.70</td>\n",
              "      <td>13.1</td>\n",
              "      <td>0.042</td>\n",
              "      <td>29.0</td>\n",
              "      <td>197.0</td>\n",
              "      <td>0.99800</td>\n",
              "      <td>3.06</td>\n",
              "      <td>0.64</td>\n",
              "      <td>9.7</td>\n",
              "      <td>5</td>\n",
              "    </tr>\n",
              "    <tr>\n",
              "      <th>2</th>\n",
              "      <td>7.8</td>\n",
              "      <td>0.17</td>\n",
              "      <td>0.23</td>\n",
              "      <td>1.7</td>\n",
              "      <td>0.029</td>\n",
              "      <td>39.0</td>\n",
              "      <td>128.0</td>\n",
              "      <td>0.99272</td>\n",
              "      <td>3.37</td>\n",
              "      <td>0.41</td>\n",
              "      <td>10.7</td>\n",
              "      <td>7</td>\n",
              "    </tr>\n",
              "    <tr>\n",
              "      <th>3</th>\n",
              "      <td>6.2</td>\n",
              "      <td>0.18</td>\n",
              "      <td>0.49</td>\n",
              "      <td>4.5</td>\n",
              "      <td>0.047</td>\n",
              "      <td>17.0</td>\n",
              "      <td>90.0</td>\n",
              "      <td>0.99190</td>\n",
              "      <td>3.27</td>\n",
              "      <td>0.37</td>\n",
              "      <td>11.6</td>\n",
              "      <td>6</td>\n",
              "    </tr>\n",
              "    <tr>\n",
              "      <th>4</th>\n",
              "      <td>6.5</td>\n",
              "      <td>0.26</td>\n",
              "      <td>0.24</td>\n",
              "      <td>10.8</td>\n",
              "      <td>0.042</td>\n",
              "      <td>47.0</td>\n",
              "      <td>130.0</td>\n",
              "      <td>0.99600</td>\n",
              "      <td>3.08</td>\n",
              "      <td>0.40</td>\n",
              "      <td>10.1</td>\n",
              "      <td>6</td>\n",
              "    </tr>\n",
              "  </tbody>\n",
              "</table>\n",
              "</div>"
            ],
            "text/plain": [
              "   fixed acidity  volatile acidity  citric acid  ...  sulphates  alcohol  quality\n",
              "0            7.0              0.27         0.36  ...       0.45      8.8        6\n",
              "1            8.4              0.40         0.70  ...       0.64      9.7        5\n",
              "2            7.8              0.17         0.23  ...       0.41     10.7        7\n",
              "3            6.2              0.18         0.49  ...       0.37     11.6        6\n",
              "4            6.5              0.26         0.24  ...       0.40     10.1        6\n",
              "\n",
              "[5 rows x 12 columns]"
            ]
          },
          "execution_count": 8,
          "metadata": {
            "tags": []
          },
          "output_type": "execute_result"
        }
      ],
      "source": [
        "df.head()"
      ]
    },
    {
      "cell_type": "code",
      "execution_count": 9,
      "metadata": {
        "id": "0roofln1uHN4"
      },
      "outputs": [],
      "source": [
        "X = df.drop(\"quality\", axis=1)\n",
        "y = df[\"quality\"]"
      ]
    },
    {
      "cell_type": "code",
      "execution_count": 10,
      "metadata": {
        "id": "sqZGX7zEuJXy"
      },
      "outputs": [],
      "source": [
        "X_train, X_test, y_train, y_test = train_test_split(X, y, \n",
        "                                                    test_size=0.20, \n",
        "                                                    random_state=40)"
      ]
    },
    {
      "cell_type": "code",
      "execution_count": 11,
      "metadata": {
        "id": "46hylN2Ju3pN"
      },
      "outputs": [],
      "source": [
        "from sklearn.neighbors import KNeighborsClassifier\n",
        "from sklearn.ensemble import RandomForestClassifier"
      ]
    },
    {
      "cell_type": "code",
      "execution_count": 12,
      "metadata": {
        "colab": {
          "base_uri": "https://localhost:8080/"
        },
        "id": "VZFqt3Urup_U",
        "outputId": "c0a85a34-e4b6-4669-9fb8-0baf3eca23ba"
      },
      "outputs": [
        {
          "data": {
            "text/plain": [
              "0.6619897959183674"
            ]
          },
          "execution_count": 12,
          "metadata": {
            "tags": []
          },
          "output_type": "execute_result"
        }
      ],
      "source": [
        "model = RandomForestClassifier().fit(X_train, y_train)\n",
        "y_pred = model.predict(X_test)\n",
        "accuracy_score(y_test, y_pred)"
      ]
    },
    {
      "cell_type": "code",
      "execution_count": 13,
      "metadata": {
        "id": "LZldDMcCvLFz"
      },
      "outputs": [],
      "source": [
        "from sklearn.metrics import classification_report,confusion_matrix"
      ]
    },
    {
      "cell_type": "code",
      "execution_count": 14,
      "metadata": {
        "colab": {
          "base_uri": "https://localhost:8080/"
        },
        "id": "eZRR8K6SuhuD",
        "outputId": "9ef7d25e-9806-4f10-a27d-6c501d62774e"
      },
      "outputs": [
        {
          "name": "stdout",
          "output_type": "stream",
          "text": [
            "              precision    recall  f1-score   support\n",
            "\n",
            "           3       0.00      0.00      0.00         3\n",
            "           4       0.67      0.12      0.21        32\n",
            "           5       0.66      0.66      0.66       234\n",
            "           6       0.64      0.79      0.71       357\n",
            "           7       0.73      0.49      0.59       132\n",
            "           8       0.81      0.52      0.63        25\n",
            "           9       0.00      0.00      0.00         1\n",
            "\n",
            "    accuracy                           0.66       784\n",
            "   macro avg       0.50      0.37      0.40       784\n",
            "weighted avg       0.67      0.66      0.65       784\n",
            "\n",
            "\n",
            "\n",
            "[[  0   0   1   2   0   0   0]\n",
            " [  0   4  19   9   0   0   0]\n",
            " [  0   1 154  77   2   0   0]\n",
            " [  0   1  57 283  16   0   0]\n",
            " [  0   0   1  63  65   3   0]\n",
            " [  0   0   0   6   6  13   0]\n",
            " [  0   0   0   1   0   0   0]]\n"
          ]
        },
        {
          "name": "stderr",
          "output_type": "stream",
          "text": [
            "/usr/local/lib/python3.7/dist-packages/sklearn/metrics/_classification.py:1272: UndefinedMetricWarning: Precision and F-score are ill-defined and being set to 0.0 in labels with no predicted samples. Use `zero_division` parameter to control this behavior.\n",
            "  _warn_prf(average, modifier, msg_start, len(result))\n"
          ]
        }
      ],
      "source": [
        "print(classification_report(y_test,y_pred))\n",
        "print('\\n')\n",
        "print(confusion_matrix(y_test,y_pred))"
      ]
    },
    {
      "cell_type": "code",
      "execution_count": 15,
      "metadata": {
        "id": "hD-hOc4JvJHH"
      },
      "outputs": [],
      "source": [
        "final_test_path = \"data/test.csv\"\n",
        "final_test = pd.read_csv(final_test_path)"
      ]
    },
    {
      "cell_type": "code",
      "execution_count": 16,
      "metadata": {
        "id": "OijiBEj_wEWl"
      },
      "outputs": [],
      "source": [
        "submission = model.predict(final_test)"
      ]
    },
    {
      "cell_type": "code",
      "execution_count": 17,
      "metadata": {
        "id": "0BP94v56wGLI"
      },
      "outputs": [],
      "source": [
        "submission = pd.DataFrame(submission) \n",
        "submission.to_csv('submission.csv',header=['quality'],index=False)"
      ]
    },
    {
      "cell_type": "code",
      "execution_count": 18,
      "metadata": {
        "colab": {
          "base_uri": "https://localhost:8080/"
        },
        "id": "smss58X3wSZL",
        "outputId": "3622512c-6b9a-482c-cfa9-6b2f3e4696fb"
      },
      "outputs": [
        {
          "name": "stdout",
          "output_type": "stream",
          "text": [
            "\u001b[2K\u001b[1;34msubmission.csv\u001b[0m \u001b[90m━━━━━━━━━━━━━━━━━━━━━━━━━━━━━━━\u001b[0m \u001b[35m100.0%\u001b[0m • \u001b[32m3.6/2.0 KB\u001b[0m • \u001b[31m?\u001b[0m • \u001b[36m0:00:00\u001b[0m\n",
            "\u001b[?25h                                  ╭─────────────────────────╮                                  \n",
            "                                  │ \u001b[1mSuccessfully submitted!\u001b[0m │                                  \n",
            "                                  ╰─────────────────────────╯                                  \n",
            "\u001b[3m                                        Important links                                        \u001b[0m\n",
            "┌──────────────────┬──────────────────────────────────────────────────────────────────────────┐\n",
            "│  This submission │\u001b[1;94m \u001b[0m\u001b[1;94mhttps://www.aicrowd.com/challenges/wineq/submissions/127417             \u001b[0m\u001b[1;94m \u001b[0m│\n",
            "│                  │                                                                          │\n",
            "│  All submissions │\u001b[1;94m \u001b[0m\u001b[1;94mhttps://www.aicrowd.com/challenges/wineq/submissions?my_submissions=true\u001b[0m\u001b[1;94m \u001b[0m│\n",
            "│                  │                                                                          │\n",
            "│      Leaderboard │\u001b[1;94m \u001b[0m\u001b[1;94mhttps://www.aicrowd.com/challenges/wineq/leaderboards                   \u001b[0m\u001b[1;94m \u001b[0m│\n",
            "│                  │                                                                          │\n",
            "│ Discussion forum │\u001b[1;94m \u001b[0m\u001b[1;94mhttps://discourse.aicrowd.com/c/wineq                                   \u001b[0m\u001b[1;94m \u001b[0m│\n",
            "│                  │                                                                          │\n",
            "│   Challenge page │\u001b[1;94m \u001b[0m\u001b[1;94mhttps://www.aicrowd.com/challenges/wineq                                \u001b[0m\u001b[1;94m \u001b[0m│\n",
            "└──────────────────┴──────────────────────────────────────────────────────────────────────────┘\n",
            "{'submission_id': 127417, 'created_at': '2021-03-23T11:05:23.798Z'}\n"
          ]
        }
      ],
      "source": [
        "!aicrowd submission create -c wineq -f submission.csv"
      ]
    },
    {
      "cell_type": "code",
      "execution_count": 18,
      "metadata": {
        "id": "9sk621NbwVDm"
      },
      "outputs": [],
      "source": []
    }
  ],
  "metadata": {
    "colab": {
      "name": "AICrowd-RandomForest.ipynb",
      "provenance": []
    },
    "kernelspec": {
      "display_name": "Python 3",
      "name": "python3"
    },
    "language_info": {
      "name": "python"
    }
  },
  "nbformat": 4,
  "nbformat_minor": 0
}